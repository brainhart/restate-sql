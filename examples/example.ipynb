{
 "cells": [
  {
   "cell_type": "code",
   "execution_count": 9,
   "id": "c02cc48c-6363-4e5e-be70-d01ccfb546a0",
   "metadata": {},
   "outputs": [],
   "source": [
    "import duckdb\n",
    "import restate_sql"
   ]
  },
  {
   "cell_type": "code",
   "execution_count": 10,
   "id": "b34313ff-edfa-4225-a9ed-a1f59018259c",
   "metadata": {},
   "outputs": [],
   "source": [
    "conn = restate_sql.connect(\"http://localhost:9070\")"
   ]
  },
  {
   "cell_type": "code",
   "execution_count": 12,
   "id": "eddd7fb0-910f-4690-929f-be677af4d983",
   "metadata": {},
   "outputs": [
    {
     "data": {
      "text/html": [
       "<span style=\"None\">Tip: You may define configurations in /Users/brianhart/code/source/tmp/restate-sql/pyproject.toml or /Users/brianhart/.jupysql/config. </span>"
      ],
      "text/plain": [
       "Tip: You may define configurations in /Users/brianhart/code/source/tmp/restate-sql/pyproject.toml or /Users/brianhart/.jupysql/config. "
      ]
     },
     "metadata": {},
     "output_type": "display_data"
    },
    {
     "data": {
      "text/html": [
       "Please review our <a href='https://jupysql.ploomber.io/en/latest/api/configuration.html#loading-from-a-file'>configuration guideline</a>."
      ],
      "text/plain": [
       "<IPython.core.display.HTML object>"
      ]
     },
     "metadata": {},
     "output_type": "display_data"
    },
    {
     "data": {
      "text/html": [
       "<span style=\"None\">Did not find user configurations in /Users/brianhart/code/source/tmp/restate-sql/pyproject.toml.</span>"
      ],
      "text/plain": [
       "Did not find user configurations in /Users/brianhart/code/source/tmp/restate-sql/pyproject.toml."
      ]
     },
     "metadata": {},
     "output_type": "display_data"
    }
   ],
   "source": [
    "%reload_ext sql\n",
    "%sql conn"
   ]
  },
  {
   "cell_type": "code",
   "execution_count": 13,
   "id": "91dcf868-b28e-4941-81dc-59514286c341",
   "metadata": {},
   "outputs": [
    {
     "data": {
      "text/html": [
       "<span style=\"None\">Running query in &#x27;Connection&#x27;</span>"
      ],
      "text/plain": [
       "Running query in 'Connection'"
      ]
     },
     "metadata": {},
     "output_type": "display_data"
    },
    {
     "data": {
      "text/html": [
       "<span style=\"color: green\">43 rows affected.</span>"
      ],
      "text/plain": [
       "43 rows affected."
      ]
     },
     "metadata": {},
     "output_type": "display_data"
    },
    {
     "data": {
      "text/html": [
       "<table>\n",
       "    <thead>\n",
       "        <tr>\n",
       "            <th>created_at</th>\n",
       "            <th>duration</th>\n",
       "            <th>invoked_by</th>\n",
       "            <th>modified_at</th>\n",
       "            <th>status</th>\n",
       "            <th>target</th>\n",
       "        </tr>\n",
       "    </thead>\n",
       "    <tbody>\n",
       "        <tr>\n",
       "            <td>2025-05-25T14:25:51.124Z</td>\n",
       "            <td>PT55.794S</td>\n",
       "            <td>service</td>\n",
       "            <td>2025-05-25T14:26:44.822Z</td>\n",
       "            <td>backing-off</td>\n",
       "            <td>virtual-obj-abc/brw_01jw3xbwdge8trqzkv3hz25vv7/launch</td>\n",
       "        </tr>\n",
       "        <tr>\n",
       "            <td>2025-05-19T20:11:46.178Z</td>\n",
       "            <td>None</td>\n",
       "            <td>service</td>\n",
       "            <td>2025-05-19T20:11:46.178Z</td>\n",
       "            <td>scheduled</td>\n",
       "            <td>custom-test-hardening-checks/wf_01jvn2pjscepbvrsenmj6xe5xq:ca34accc/deleteCheck</td>\n",
       "        </tr>\n",
       "        <tr>\n",
       "            <td>2025-05-24T22:06:27.241Z</td>\n",
       "            <td>None</td>\n",
       "            <td>service</td>\n",
       "            <td>2025-05-24T22:06:27.241Z</td>\n",
       "            <td>scheduled</td>\n",
       "            <td>custom-test-hardening-checks/wf_01jjcxj6s2f42a32rma2j3ga5q:953a6bfd/deleteCheck</td>\n",
       "        </tr>\n",
       "        <tr>\n",
       "            <td>2025-05-19T19:47:08.219Z</td>\n",
       "            <td>None</td>\n",
       "            <td>service</td>\n",
       "            <td>2025-05-19T19:47:08.219Z</td>\n",
       "            <td>scheduled</td>\n",
       "            <td>custom-test-hardening-checks/wf_01j2sjtk67emcs9ekthmj6fatn:abc04618/deleteCheck</td>\n",
       "        </tr>\n",
       "        <tr>\n",
       "            <td>2025-05-23T23:20:05.829Z</td>\n",
       "            <td>None</td>\n",
       "            <td>service</td>\n",
       "            <td>2025-05-23T23:20:05.829Z</td>\n",
       "            <td>scheduled</td>\n",
       "            <td>custom-test-hardening-checks/wf_01jvzbq8s9e5yaja4yxnwqnwjq:a5cbebe1/deleteCheck</td>\n",
       "        </tr>\n",
       "        <tr>\n",
       "            <td>2025-05-19T00:35:20.557Z</td>\n",
       "            <td>None</td>\n",
       "            <td>service</td>\n",
       "            <td>2025-05-19T00:35:20.557Z</td>\n",
       "            <td>scheduled</td>\n",
       "            <td>custom-test-hardening-checks/wf_01jjcxj6s2f42a32rma2j3ga5q:b6902eba/deleteCheck</td>\n",
       "        </tr>\n",
       "        <tr>\n",
       "            <td>2025-05-23T00:32:21.689Z</td>\n",
       "            <td>None</td>\n",
       "            <td>service</td>\n",
       "            <td>2025-05-23T00:32:21.689Z</td>\n",
       "            <td>scheduled</td>\n",
       "            <td>custom-test-hardening-checks/wf_01jsywh3c0e4ct550tsb6hxnpm:611509bd/deleteCheck</td>\n",
       "        </tr>\n",
       "        <tr>\n",
       "            <td>2025-05-23T04:01:57.647Z</td>\n",
       "            <td>None</td>\n",
       "            <td>service</td>\n",
       "            <td>2025-05-23T04:01:57.647Z</td>\n",
       "            <td>scheduled</td>\n",
       "            <td>custom-test-hardening-checks/wf_01jvn2wqkze4g8azbcn8nkb5rv:6974236e/deleteCheck</td>\n",
       "        </tr>\n",
       "        <tr>\n",
       "            <td>2025-05-23T04:10:31.454Z</td>\n",
       "            <td>None</td>\n",
       "            <td>service</td>\n",
       "            <td>2025-05-23T04:10:31.454Z</td>\n",
       "            <td>scheduled</td>\n",
       "            <td>custom-test-hardening-checks/wf_01jvn2wqkze4g8azbcn8nkb5rv:74b28dee/deleteCheck</td>\n",
       "        </tr>\n",
       "        <tr>\n",
       "            <td>2025-05-24T21:20:29.702Z</td>\n",
       "            <td>None</td>\n",
       "            <td>service</td>\n",
       "            <td>2025-05-24T21:20:29.702Z</td>\n",
       "            <td>scheduled</td>\n",
       "            <td>custom-test-hardening-checks/wf_01jjcxj6s2f42a32rma2j3ga5q:1a35539c/deleteCheck</td>\n",
       "        </tr>\n",
       "    </tbody>\n",
       "</table>\n",
       "<span style=\"font-style:italic;text-align:center;\">Truncated to <a href=\"https://jupysql.ploomber.io/en/latest/api/configuration.html#displaylimit\">displaylimit</a> of 10.</span>"
      ],
      "text/plain": [
       "+--------------------------+-----------+------------+--------------------------+-------------+---------------------------------------------------------------------------------+\n",
       "|        created_at        |  duration | invoked_by |       modified_at        |    status   |                                      target                                     |\n",
       "+--------------------------+-----------+------------+--------------------------+-------------+---------------------------------------------------------------------------------+\n",
       "| 2025-05-25T14:25:51.124Z | PT55.794S |  service   | 2025-05-25T14:26:44.822Z | backing-off |              virtual-obj-abc/brw_01jw3xbwdge8trqzkv3hz25vv7/launch              |\n",
       "| 2025-05-19T20:11:46.178Z |    None   |  service   | 2025-05-19T20:11:46.178Z |  scheduled  | custom-test-hardening-checks/wf_01jvn2pjscepbvrsenmj6xe5xq:ca34accc/deleteCheck |\n",
       "| 2025-05-24T22:06:27.241Z |    None   |  service   | 2025-05-24T22:06:27.241Z |  scheduled  | custom-test-hardening-checks/wf_01jjcxj6s2f42a32rma2j3ga5q:953a6bfd/deleteCheck |\n",
       "| 2025-05-19T19:47:08.219Z |    None   |  service   | 2025-05-19T19:47:08.219Z |  scheduled  | custom-test-hardening-checks/wf_01j2sjtk67emcs9ekthmj6fatn:abc04618/deleteCheck |\n",
       "| 2025-05-23T23:20:05.829Z |    None   |  service   | 2025-05-23T23:20:05.829Z |  scheduled  | custom-test-hardening-checks/wf_01jvzbq8s9e5yaja4yxnwqnwjq:a5cbebe1/deleteCheck |\n",
       "| 2025-05-19T00:35:20.557Z |    None   |  service   | 2025-05-19T00:35:20.557Z |  scheduled  | custom-test-hardening-checks/wf_01jjcxj6s2f42a32rma2j3ga5q:b6902eba/deleteCheck |\n",
       "| 2025-05-23T00:32:21.689Z |    None   |  service   | 2025-05-23T00:32:21.689Z |  scheduled  | custom-test-hardening-checks/wf_01jsywh3c0e4ct550tsb6hxnpm:611509bd/deleteCheck |\n",
       "| 2025-05-23T04:01:57.647Z |    None   |  service   | 2025-05-23T04:01:57.647Z |  scheduled  | custom-test-hardening-checks/wf_01jvn2wqkze4g8azbcn8nkb5rv:6974236e/deleteCheck |\n",
       "| 2025-05-23T04:10:31.454Z |    None   |  service   | 2025-05-23T04:10:31.454Z |  scheduled  | custom-test-hardening-checks/wf_01jvn2wqkze4g8azbcn8nkb5rv:74b28dee/deleteCheck |\n",
       "| 2025-05-24T21:20:29.702Z |    None   |  service   | 2025-05-24T21:20:29.702Z |  scheduled  | custom-test-hardening-checks/wf_01jjcxj6s2f42a32rma2j3ga5q:1a35539c/deleteCheck |\n",
       "+--------------------------+-----------+------------+--------------------------+-------------+---------------------------------------------------------------------------------+\n",
       "Truncated to displaylimit of 10."
      ]
     },
     "execution_count": 13,
     "metadata": {},
     "output_type": "execute_result"
    }
   ],
   "source": [
    "%%sql\n",
    "SELECT target, invoked_by, last_start_at - created_at as duration, status, created_at, modified_at\n",
    "FROM sys_invocation WHERE status != 'completed'\n",
    "LIMIT 100"
   ]
  },
  {
   "cell_type": "code",
   "execution_count": 14,
   "id": "2233a8be-34d9-41f3-9e84-db57981d94e2",
   "metadata": {},
   "outputs": [
    {
     "data": {
      "text/html": [
       "<pre style=\"white-space:pre;overflow-x:auto;line-height:normal;font-family:Menlo,'DejaVu Sans Mono',consolas,'Courier New',monospace\">┏━━━━━━━━━━━━━━━━━━━━━━━━━┳━━━━━━━━━━┳━━━━━━━━━━━━┳━━━━━━━━━━━━━━━━━━━━━━━━━┳━━━━━━━━━━━┳━━━━━━━━━━━━━━━━━━━━━━━━━┓\n",
       "┃<span style=\"color: #800080; text-decoration-color: #800080; font-weight: bold\"> created_at              </span>┃<span style=\"color: #800080; text-decoration-color: #800080; font-weight: bold\"> duration </span>┃<span style=\"color: #800080; text-decoration-color: #800080; font-weight: bold\"> invoked_by </span>┃<span style=\"color: #800080; text-decoration-color: #800080; font-weight: bold\"> modified_at             </span>┃<span style=\"color: #800080; text-decoration-color: #800080; font-weight: bold\"> status    </span>┃<span style=\"color: #800080; text-decoration-color: #800080; font-weight: bold\"> target                  </span>┃\n",
       "┡━━━━━━━━━━━━━━━━━━━━━━━━━╇━━━━━━━━━━╇━━━━━━━━━━━━╇━━━━━━━━━━━━━━━━━━━━━━━━━╇━━━━━━━━━━━╇━━━━━━━━━━━━━━━━━━━━━━━━━┩\n",
       "│ 2025-05-19T20:11:46.17… │ NULL     │ service    │ 2025-05-19T20:11:46.17… │ scheduled │ custom-test-hardening-… │\n",
       "│ 2025-05-24T22:06:27.24… │ NULL     │ service    │ 2025-05-24T22:06:27.24… │ scheduled │ custom-test-hardening-… │\n",
       "│ 2025-05-19T19:47:08.21… │ NULL     │ service    │ 2025-05-19T19:47:08.21… │ scheduled │ custom-test-hardening-… │\n",
       "│ 2025-05-23T23:20:05.82… │ NULL     │ service    │ 2025-05-23T23:20:05.82… │ scheduled │ custom-test-hardening-… │\n",
       "│ 2025-05-25T14:27:40.07… │ NULL     │ service    │ 2025-05-25T14:27:40.07… │ scheduled │ resource-autoscaler/sh… │\n",
       "│ 2025-05-25T14:27:40.08… │ NULL     │ service    │ 2025-05-25T14:27:40.08… │ scheduled │ resource-autoscaler/sh… │\n",
       "│ 2025-05-19T00:35:20.55… │ NULL     │ service    │ 2025-05-19T00:35:20.55… │ scheduled │ custom-test-hardening-… │\n",
       "│ 2025-05-23T00:32:21.68… │ NULL     │ service    │ 2025-05-23T00:32:21.68… │ scheduled │ custom-test-hardening-… │\n",
       "│ 2025-05-23T04:01:57.64… │ NULL     │ service    │ 2025-05-23T04:01:57.64… │ scheduled │ custom-test-hardening-… │\n",
       "│ 2025-05-23T04:10:31.45… │ NULL     │ service    │ 2025-05-23T04:10:31.45… │ scheduled │ custom-test-hardening-… │\n",
       "│ 2025-05-24T21:20:29.70… │ NULL     │ service    │ 2025-05-24T21:20:29.70… │ scheduled │ custom-test-hardening-… │\n",
       "│ 2025-05-23T23:21:52.33… │ NULL     │ service    │ 2025-05-23T23:21:52.33… │ scheduled │ custom-test-hardening-… │\n",
       "│ 2025-05-23T23:23:53.04… │ NULL     │ service    │ 2025-05-23T23:23:53.04… │ scheduled │ custom-test-hardening-… │\n",
       "│ 2025-05-23T23:10:11.51… │ NULL     │ service    │ 2025-05-23T23:10:11.51… │ scheduled │ custom-test-hardening-… │\n",
       "│ 2025-05-24T20:01:46.70… │ NULL     │ service    │ 2025-05-24T20:01:46.70… │ scheduled │ custom-test-hardening-… │\n",
       "│ 2025-05-23T23:11:10.65… │ NULL     │ service    │ 2025-05-23T23:11:10.65… │ scheduled │ custom-test-hardening-… │\n",
       "│ 2025-05-24T00:49:35.11… │ NULL     │ service    │ 2025-05-24T00:49:35.11… │ scheduled │ custom-test-hardening-… │\n",
       "│ 2025-05-24T03:08:11.04… │ NULL     │ service    │ 2025-05-24T03:08:11.04… │ scheduled │ custom-test-hardening-… │\n",
       "│ 2025-05-23T03:59:28.97… │ NULL     │ service    │ 2025-05-23T03:59:28.97… │ scheduled │ custom-test-hardening-… │\n",
       "│ 2025-05-23T20:52:51.51… │ NULL     │ service    │ 2025-05-23T20:52:51.51… │ scheduled │ custom-test-hardening-… │\n",
       "│ 2025-05-23T23:05:08.82… │ NULL     │ service    │ 2025-05-23T23:05:08.82… │ scheduled │ custom-test-hardening-… │\n",
       "│ 2025-05-18T21:24:09.70… │ NULL     │ service    │ 2025-05-18T21:24:09.70… │ scheduled │ custom-test-hardening-… │\n",
       "│ 2025-05-23T23:09:18.35… │ NULL     │ service    │ 2025-05-23T23:09:18.35… │ scheduled │ custom-test-hardening-… │\n",
       "│ 2025-05-18T23:51:54.88… │ NULL     │ service    │ 2025-05-18T23:51:54.88… │ scheduled │ custom-test-hardening-… │\n",
       "│ 2025-05-24T18:35:15.60… │ NULL     │ service    │ 2025-05-24T18:35:15.60… │ scheduled │ custom-test-hardening-… │\n",
       "│ 2025-05-24T18:52:42.32… │ NULL     │ service    │ 2025-05-24T18:52:42.32… │ scheduled │ custom-test-hardening-… │\n",
       "│ 2025-05-24T05:01:01.41… │ NULL     │ service    │ 2025-05-24T05:01:01.41… │ scheduled │ custom-test-hardening-… │\n",
       "│ 2025-05-23T23:13:59.31… │ NULL     │ service    │ 2025-05-23T23:13:59.31… │ scheduled │ custom-test-hardening-… │\n",
       "│ 2025-05-25T14:27:00.11… │ P0D      │ service    │ 2025-05-25T14:27:40.68… │ running   │ virtual-obj-abc/brw_01… │\n",
       "│ 2025-05-23T04:09:34.59… │ NULL     │ service    │ 2025-05-23T04:09:34.59… │ scheduled │ custom-test-hardening-… │\n",
       "│ 2025-05-25T14:26:46.32… │ NULL     │ service    │ 2025-05-25T14:26:46.32… │ scheduled │ resourcelease/5db273d5… │\n",
       "│ 2025-05-23T04:10:27.03… │ NULL     │ service    │ 2025-05-23T04:10:27.03… │ scheduled │ custom-test-hardening-… │\n",
       "│ 2025-05-23T23:07:09.51… │ NULL     │ service    │ 2025-05-23T23:07:09.51… │ scheduled │ custom-test-hardening-… │\n",
       "│ 2025-05-18T23:51:53.66… │ NULL     │ service    │ 2025-05-18T23:51:53.66… │ scheduled │ custom-test-hardening-… │\n",
       "│ 2025-05-24T21:20:02.10… │ NULL     │ service    │ 2025-05-24T21:20:02.10… │ scheduled │ custom-test-hardening-… │\n",
       "│ 2025-05-23T20:55:25.95… │ NULL     │ service    │ 2025-05-23T20:55:25.95… │ scheduled │ custom-test-hardening-… │\n",
       "│ 2025-05-20T18:39:07.22… │ NULL     │ service    │ 2025-05-20T18:39:07.22… │ scheduled │ custom-test-hardening-… │\n",
       "│ 2025-05-23T00:32:11.76… │ NULL     │ service    │ 2025-05-23T00:32:11.76… │ scheduled │ custom-test-hardening-… │\n",
       "│ 2025-05-18T23:50:37.03… │ NULL     │ service    │ 2025-05-18T23:50:37.03… │ scheduled │ custom-test-hardening-… │\n",
       "│ 2025-05-24T19:27:29.89… │ NULL     │ service    │ 2025-05-24T19:27:29.89… │ scheduled │ custom-test-hardening-… │\n",
       "│ 2025-05-20T01:22:25.61… │ NULL     │ service    │ 2025-05-20T01:22:25.61… │ scheduled │ custom-test-hardening-… │\n",
       "│ 2025-05-24T19:34:34.87… │ NULL     │ service    │ 2025-05-24T19:34:34.87… │ scheduled │ custom-test-hardening-… │\n",
       "│ 2025-05-23T04:05:55.74… │ NULL     │ service    │ 2025-05-23T04:05:55.74… │ scheduled │ custom-test-hardening-… │\n",
       "└─────────────────────────┴──────────┴────────────┴─────────────────────────┴───────────┴─────────────────────────┘\n",
       "</pre>\n"
      ],
      "text/plain": [
       "┏━━━━━━━━━━━━━━━━━━━━━━━━━┳━━━━━━━━━━┳━━━━━━━━━━━━┳━━━━━━━━━━━━━━━━━━━━━━━━━┳━━━━━━━━━━━┳━━━━━━━━━━━━━━━━━━━━━━━━━┓\n",
       "┃\u001b[1;35m \u001b[0m\u001b[1;35mcreated_at             \u001b[0m\u001b[1;35m \u001b[0m┃\u001b[1;35m \u001b[0m\u001b[1;35mduration\u001b[0m\u001b[1;35m \u001b[0m┃\u001b[1;35m \u001b[0m\u001b[1;35minvoked_by\u001b[0m\u001b[1;35m \u001b[0m┃\u001b[1;35m \u001b[0m\u001b[1;35mmodified_at            \u001b[0m\u001b[1;35m \u001b[0m┃\u001b[1;35m \u001b[0m\u001b[1;35mstatus   \u001b[0m\u001b[1;35m \u001b[0m┃\u001b[1;35m \u001b[0m\u001b[1;35mtarget                 \u001b[0m\u001b[1;35m \u001b[0m┃\n",
       "┡━━━━━━━━━━━━━━━━━━━━━━━━━╇━━━━━━━━━━╇━━━━━━━━━━━━╇━━━━━━━━━━━━━━━━━━━━━━━━━╇━━━━━━━━━━━╇━━━━━━━━━━━━━━━━━━━━━━━━━┩\n",
       "│ 2025-05-19T20:11:46.17… │ NULL     │ service    │ 2025-05-19T20:11:46.17… │ scheduled │ custom-test-hardening-… │\n",
       "│ 2025-05-24T22:06:27.24… │ NULL     │ service    │ 2025-05-24T22:06:27.24… │ scheduled │ custom-test-hardening-… │\n",
       "│ 2025-05-19T19:47:08.21… │ NULL     │ service    │ 2025-05-19T19:47:08.21… │ scheduled │ custom-test-hardening-… │\n",
       "│ 2025-05-23T23:20:05.82… │ NULL     │ service    │ 2025-05-23T23:20:05.82… │ scheduled │ custom-test-hardening-… │\n",
       "│ 2025-05-25T14:27:40.07… │ NULL     │ service    │ 2025-05-25T14:27:40.07… │ scheduled │ resource-autoscaler/sh… │\n",
       "│ 2025-05-25T14:27:40.08… │ NULL     │ service    │ 2025-05-25T14:27:40.08… │ scheduled │ resource-autoscaler/sh… │\n",
       "│ 2025-05-19T00:35:20.55… │ NULL     │ service    │ 2025-05-19T00:35:20.55… │ scheduled │ custom-test-hardening-… │\n",
       "│ 2025-05-23T00:32:21.68… │ NULL     │ service    │ 2025-05-23T00:32:21.68… │ scheduled │ custom-test-hardening-… │\n",
       "│ 2025-05-23T04:01:57.64… │ NULL     │ service    │ 2025-05-23T04:01:57.64… │ scheduled │ custom-test-hardening-… │\n",
       "│ 2025-05-23T04:10:31.45… │ NULL     │ service    │ 2025-05-23T04:10:31.45… │ scheduled │ custom-test-hardening-… │\n",
       "│ 2025-05-24T21:20:29.70… │ NULL     │ service    │ 2025-05-24T21:20:29.70… │ scheduled │ custom-test-hardening-… │\n",
       "│ 2025-05-23T23:21:52.33… │ NULL     │ service    │ 2025-05-23T23:21:52.33… │ scheduled │ custom-test-hardening-… │\n",
       "│ 2025-05-23T23:23:53.04… │ NULL     │ service    │ 2025-05-23T23:23:53.04… │ scheduled │ custom-test-hardening-… │\n",
       "│ 2025-05-23T23:10:11.51… │ NULL     │ service    │ 2025-05-23T23:10:11.51… │ scheduled │ custom-test-hardening-… │\n",
       "│ 2025-05-24T20:01:46.70… │ NULL     │ service    │ 2025-05-24T20:01:46.70… │ scheduled │ custom-test-hardening-… │\n",
       "│ 2025-05-23T23:11:10.65… │ NULL     │ service    │ 2025-05-23T23:11:10.65… │ scheduled │ custom-test-hardening-… │\n",
       "│ 2025-05-24T00:49:35.11… │ NULL     │ service    │ 2025-05-24T00:49:35.11… │ scheduled │ custom-test-hardening-… │\n",
       "│ 2025-05-24T03:08:11.04… │ NULL     │ service    │ 2025-05-24T03:08:11.04… │ scheduled │ custom-test-hardening-… │\n",
       "│ 2025-05-23T03:59:28.97… │ NULL     │ service    │ 2025-05-23T03:59:28.97… │ scheduled │ custom-test-hardening-… │\n",
       "│ 2025-05-23T20:52:51.51… │ NULL     │ service    │ 2025-05-23T20:52:51.51… │ scheduled │ custom-test-hardening-… │\n",
       "│ 2025-05-23T23:05:08.82… │ NULL     │ service    │ 2025-05-23T23:05:08.82… │ scheduled │ custom-test-hardening-… │\n",
       "│ 2025-05-18T21:24:09.70… │ NULL     │ service    │ 2025-05-18T21:24:09.70… │ scheduled │ custom-test-hardening-… │\n",
       "│ 2025-05-23T23:09:18.35… │ NULL     │ service    │ 2025-05-23T23:09:18.35… │ scheduled │ custom-test-hardening-… │\n",
       "│ 2025-05-18T23:51:54.88… │ NULL     │ service    │ 2025-05-18T23:51:54.88… │ scheduled │ custom-test-hardening-… │\n",
       "│ 2025-05-24T18:35:15.60… │ NULL     │ service    │ 2025-05-24T18:35:15.60… │ scheduled │ custom-test-hardening-… │\n",
       "│ 2025-05-24T18:52:42.32… │ NULL     │ service    │ 2025-05-24T18:52:42.32… │ scheduled │ custom-test-hardening-… │\n",
       "│ 2025-05-24T05:01:01.41… │ NULL     │ service    │ 2025-05-24T05:01:01.41… │ scheduled │ custom-test-hardening-… │\n",
       "│ 2025-05-23T23:13:59.31… │ NULL     │ service    │ 2025-05-23T23:13:59.31… │ scheduled │ custom-test-hardening-… │\n",
       "│ 2025-05-25T14:27:00.11… │ P0D      │ service    │ 2025-05-25T14:27:40.68… │ running   │ virtual-obj-abc/brw_01… │\n",
       "│ 2025-05-23T04:09:34.59… │ NULL     │ service    │ 2025-05-23T04:09:34.59… │ scheduled │ custom-test-hardening-… │\n",
       "│ 2025-05-25T14:26:46.32… │ NULL     │ service    │ 2025-05-25T14:26:46.32… │ scheduled │ resourcelease/5db273d5… │\n",
       "│ 2025-05-23T04:10:27.03… │ NULL     │ service    │ 2025-05-23T04:10:27.03… │ scheduled │ custom-test-hardening-… │\n",
       "│ 2025-05-23T23:07:09.51… │ NULL     │ service    │ 2025-05-23T23:07:09.51… │ scheduled │ custom-test-hardening-… │\n",
       "│ 2025-05-18T23:51:53.66… │ NULL     │ service    │ 2025-05-18T23:51:53.66… │ scheduled │ custom-test-hardening-… │\n",
       "│ 2025-05-24T21:20:02.10… │ NULL     │ service    │ 2025-05-24T21:20:02.10… │ scheduled │ custom-test-hardening-… │\n",
       "│ 2025-05-23T20:55:25.95… │ NULL     │ service    │ 2025-05-23T20:55:25.95… │ scheduled │ custom-test-hardening-… │\n",
       "│ 2025-05-20T18:39:07.22… │ NULL     │ service    │ 2025-05-20T18:39:07.22… │ scheduled │ custom-test-hardening-… │\n",
       "│ 2025-05-23T00:32:11.76… │ NULL     │ service    │ 2025-05-23T00:32:11.76… │ scheduled │ custom-test-hardening-… │\n",
       "│ 2025-05-18T23:50:37.03… │ NULL     │ service    │ 2025-05-18T23:50:37.03… │ scheduled │ custom-test-hardening-… │\n",
       "│ 2025-05-24T19:27:29.89… │ NULL     │ service    │ 2025-05-24T19:27:29.89… │ scheduled │ custom-test-hardening-… │\n",
       "│ 2025-05-20T01:22:25.61… │ NULL     │ service    │ 2025-05-20T01:22:25.61… │ scheduled │ custom-test-hardening-… │\n",
       "│ 2025-05-24T19:34:34.87… │ NULL     │ service    │ 2025-05-24T19:34:34.87… │ scheduled │ custom-test-hardening-… │\n",
       "│ 2025-05-23T04:05:55.74… │ NULL     │ service    │ 2025-05-23T04:05:55.74… │ scheduled │ custom-test-hardening-… │\n",
       "└─────────────────────────┴──────────┴────────────┴─────────────────────────┴───────────┴─────────────────────────┘\n"
      ]
     },
     "execution_count": 14,
     "metadata": {},
     "output_type": "execute_result"
    }
   ],
   "source": [
    "conn.sql(\"\"\"\n",
    "SELECT target, invoked_by, last_start_at - created_at as duration, status, created_at, modified_at\n",
    "FROM sys_invocation WHERE status != 'completed'\n",
    "LIMIT 100\n",
    "\"\"\")"
   ]
  },
  {
   "cell_type": "code",
   "execution_count": 15,
   "id": "f49e0c7d-346a-4c1d-97dd-e6ccaa5e4058",
   "metadata": {},
   "outputs": [],
   "source": [
    "invocations = conn.sql(\"\"\"\n",
    "SELECT target, invoked_by, last_start_at - created_at as duration, status, created_at, modified_at\n",
    "FROM sys_invocation WHERE status != 'completed'\n",
    "LIMIT 100\n",
    "\"\"\").df()"
   ]
  },
  {
   "cell_type": "code",
   "execution_count": 16,
   "id": "9c13a847-6289-402a-abe2-bc77285cf985",
   "metadata": {},
   "outputs": [
    {
     "data": {
      "text/plain": [
       "┌────────────┬───────────┬──────────────┐\n",
       "│ invoked_by │  status   │ count_star() │\n",
       "│  varchar   │  varchar  │    int64     │\n",
       "├────────────┼───────────┼──────────────┤\n",
       "│ service    │ running   │            1 │\n",
       "│ service    │ scheduled │           42 │\n",
       "└────────────┴───────────┴──────────────┘"
      ]
     },
     "execution_count": 16,
     "metadata": {},
     "output_type": "execute_result"
    }
   ],
   "source": [
    "duckdb.sql(\n",
    "    \"select invoked_by, status, count(*) from invocations group by invoked_by, status\"\n",
    ")"
   ]
  },
  {
   "cell_type": "code",
   "execution_count": 24,
   "id": "4bcb21e7-202d-4d6c-9e68-54e9b9861fe7",
   "metadata": {},
   "outputs": [
    {
     "data": {
      "text/plain": [
       "Index(['created_at', 'id', 'invoked_by', 'invoked_by_id',\n",
       "       'invoked_by_service_name', 'invoked_by_target', 'journal_commands_size',\n",
       "       'journal_size', 'last_attempt_deployment_id', 'last_attempt_server',\n",
       "       'last_start_at', 'modified_at', 'pinned_deployment_id',\n",
       "       'pinned_service_protocol_version', 'retry_count', 'running_at',\n",
       "       'scheduled_at', 'status', 'target', 'target_handler_name',\n",
       "       'target_service_key', 'target_service_name', 'target_service_ty'],\n",
       "      dtype='object')"
      ]
     },
     "execution_count": 24,
     "metadata": {},
     "output_type": "execute_result"
    }
   ],
   "source": [
    "conn.sql(\"\"\"\n",
    "SELECT *\n",
    "FROM sys_invocation WHERE status != 'completed'\n",
    "LIMIT 100\n",
    "\"\"\").df().keys()"
   ]
  },
  {
   "cell_type": "code",
   "execution_count": null,
   "id": "c1dab29f-4bcb-4d11-a8f6-9a30a619bbb8",
   "metadata": {},
   "outputs": [],
   "source": []
  }
 ],
 "metadata": {
  "kernelspec": {
   "display_name": "Python 3 (ipykernel)",
   "language": "python",
   "name": "python3"
  },
  "language_info": {
   "codemirror_mode": {
    "name": "ipython",
    "version": 3
   },
   "file_extension": ".py",
   "mimetype": "text/x-python",
   "name": "python",
   "nbconvert_exporter": "python",
   "pygments_lexer": "ipython3",
   "version": "3.13.3"
  }
 },
 "nbformat": 4,
 "nbformat_minor": 5
}
